{
 "cells": [
  {
   "cell_type": "code",
   "execution_count": 12,
   "metadata": {},
   "outputs": [],
   "source": [
    "# quelle für code: https://www.kaggle.com/code/maarklam/gradient-boosted-regression-with-pipelines/notebook"
   ]
  },
  {
   "cell_type": "code",
   "execution_count": 1,
   "metadata": {},
   "outputs": [],
   "source": [
    "import numpy as np # linear algebra\n",
    "import pandas as pd # data processing, CSV file I/O (e.g. pd.read_csv)\n",
    "import os\n",
    "\n",
    "from sklearn.impute import SimpleImputer\n",
    "from sklearn.preprocessing import OneHotEncoder\n",
    "from sklearn.compose import ColumnTransformer\n",
    "from sklearn.pipeline import Pipeline\n",
    "from sklearn.model_selection import GridSearchCV\n",
    "from xgboost import XGBRegressor\n",
    "import seaborn as sns\n",
    "\n",
    "from warnings import simplefilter\n",
    "simplefilter(action='ignore', category=FutureWarning)"
   ]
  },
  {
   "cell_type": "code",
   "execution_count": 2,
   "metadata": {},
   "outputs": [],
   "source": [
    "df = pd.read_csv('../ames.csv')"
   ]
  },
  {
   "cell_type": "code",
   "execution_count": 3,
   "metadata": {},
   "outputs": [],
   "source": [
    "# Read the data\n",
    "X = df[:2001].copy()\n",
    "X_test = df[2001:].copy()\n",
    "X_test2 = X_test.drop(columns=['Sale_Price'])\n",
    "y_test = df['Sale_Price'][2001:].copy()\n",
    "\n",
    "\n",
    "y = X.Sale_Price\n",
    "X.drop(columns=['Sale_Price'], inplace=True)"
   ]
  },
  {
   "cell_type": "code",
   "execution_count": 4,
   "metadata": {},
   "outputs": [],
   "source": [
    "categorical_cols = [col for col in X.columns if X[col].dtype == 'object']\n",
    "numerical_cols = [col for col in X.columns if (X[col].dtype == 'int64' or X[col].dtype == 'float64')]"
   ]
  },
  {
   "cell_type": "code",
   "execution_count": 5,
   "metadata": {},
   "outputs": [
    {
     "data": {
      "text/plain": [
       "GridSearchCV(cv=10,\n",
       "             estimator=Pipeline(steps=[('preprocess',\n",
       "                                        ColumnTransformer(transformers=[('num',\n",
       "                                                                         SimpleImputer(),\n",
       "                                                                         ['Lot_Frontage',\n",
       "                                                                          'Lot_Area',\n",
       "                                                                          'Year_Built',\n",
       "                                                                          'Year_Remod_Add',\n",
       "                                                                          'Mas_Vnr_Area',\n",
       "                                                                          'BsmtFin_SF_1',\n",
       "                                                                          'BsmtFin_SF_2',\n",
       "                                                                          'Bsmt_Unf_SF',\n",
       "                                                                          'Total_Bsmt_SF',\n",
       "                                                                          'First_Flr_SF',\n",
       "                                                                          'Second_Flr_SF',\n",
       "                                                                          'Low_Qual_Fin_SF',\n",
       "                                                                          'Gr_Liv_Area',\n",
       "                                                                          'Bsmt_Full_Bath',\n",
       "                                                                          'Bsmt_Half_Bath',\n",
       "                                                                          'Full_B...\n",
       "                                                     max_delta_step=None,\n",
       "                                                     max_depth=None,\n",
       "                                                     max_leaves=None,\n",
       "                                                     min_child_weight=None,\n",
       "                                                     missing=nan,\n",
       "                                                     monotone_constraints=None,\n",
       "                                                     n_estimators=100,\n",
       "                                                     n_jobs=None,\n",
       "                                                     num_parallel_tree=None,\n",
       "                                                     predictor=None,\n",
       "                                                     random_state=0,\n",
       "                                                     reg_alpha=None,\n",
       "                                                     reg_lambda=None, ...))]),\n",
       "             param_grid={'model__learning_rate': [0.01, 0.05],\n",
       "                         'model__min_child_weight': [0, 1],\n",
       "                         'model__n_estimators': [2000, 3000]},\n",
       "             scoring='r2')"
      ]
     },
     "execution_count": 5,
     "metadata": {},
     "output_type": "execute_result"
    }
   ],
   "source": [
    "# Replace missing values using a descriptive statistic (e.g. mean, median, or most frequent) along each column, or using a constant value.\n",
    "numerical_transformer = SimpleImputer()\n",
    "\n",
    "# This encoding is needed for feeding categorical data to many scikit-learn estimators, notably linear models and SVMs with the standard kernels.\n",
    "categorical_transformer = Pipeline(steps=\n",
    "                                   [('imputer', SimpleImputer(strategy='most_frequent')),\n",
    "                                    ('onehot', OneHotEncoder(handle_unknown='ignore'))])\n",
    "# preprocessor\n",
    "preprocessor = ColumnTransformer(transformers=\n",
    "                                 [('num', numerical_transformer, numerical_cols), \n",
    "                                  ('cat', categorical_transformer, categorical_cols)])\n",
    "# model\n",
    "model = XGBRegressor(random_state=0)\n",
    "\n",
    "# pipeline\n",
    "pipeline = Pipeline(steps=\n",
    "                   [('preprocess', preprocessor),\n",
    "                   ('model', model)])\n",
    "\n",
    "# grid\n",
    "grid = GridSearchCV(pipeline,  \n",
    "                    param_grid={'model__n_estimators': [2000, 3000],\n",
    "                                'model__learning_rate' : [0.01, 0.05],                                \n",
    "                                'model__min_child_weight' : [0, 1]\n",
    "                               },\n",
    "                    cv = 10,\n",
    "                    # scoring = 'neg_mean_absolute_error',\n",
    "                    scoring = 'r2'\n",
    "                    )\n",
    "\n",
    "grid.fit(X, y)"
   ]
  },
  {
   "cell_type": "code",
   "execution_count": 6,
   "metadata": {},
   "outputs": [
    {
     "name": "stdout",
     "output_type": "stream",
     "text": [
      "Best model parameters: {'model__learning_rate': 0.05, 'model__min_child_weight': 0, 'model__n_estimators': 3000}\n",
      "Best score: 0.8673040335499806\n"
     ]
    }
   ],
   "source": [
    "print(f\"Best model parameters: {grid.best_params_}\")\n",
    "print(f\"Best score: {grid.best_score_}\")"
   ]
  },
  {
   "cell_type": "code",
   "execution_count": 7,
   "metadata": {},
   "outputs": [],
   "source": [
    "# save test predictions to file\n",
    "y_pred = grid.predict(X_test2)"
   ]
  },
  {
   "cell_type": "code",
   "execution_count": 8,
   "metadata": {},
   "outputs": [
    {
     "name": "stdout",
     "output_type": "stream",
     "text": [
      "MAE: 15648.011651473358\n",
      "MSE: 768928095.4808434\n",
      "R2: 0.8703462471681407\n"
     ]
    }
   ],
   "source": [
    "from sklearn.metrics import mean_absolute_error\n",
    "from sklearn.metrics import mean_squared_error\n",
    "from sklearn.metrics import r2_score\n",
    "\n",
    "print(f'MAE: {mean_absolute_error(y_test, y_pred)}')\n",
    "print(f'MSE: {mean_squared_error(y_test, y_pred)}')\n",
    "print(f'R2: {r2_score(y_test, y_pred)}')"
   ]
  },
  {
   "cell_type": "code",
   "execution_count": 9,
   "metadata": {},
   "outputs": [],
   "source": [
    "output = pd.DataFrame({'Id': X_test2.index, 'Sale_Price': y_pred})"
   ]
  },
  {
   "cell_type": "code",
   "execution_count": 11,
   "metadata": {},
   "outputs": [],
   "source": [
    "output.to_csv('submission.csv', index=False)    \n"
   ]
  },
  {
   "cell_type": "code",
   "execution_count": null,
   "metadata": {},
   "outputs": [],
   "source": []
  },
  {
   "cell_type": "code",
   "execution_count": null,
   "metadata": {},
   "outputs": [],
   "source": []
  }
 ],
 "metadata": {
  "kernelspec": {
   "display_name": "Python 3.8.8 ('base')",
   "language": "python",
   "name": "python3"
  },
  "language_info": {
   "codemirror_mode": {
    "name": "ipython",
    "version": 3
   },
   "file_extension": ".py",
   "mimetype": "text/x-python",
   "name": "python",
   "nbconvert_exporter": "python",
   "pygments_lexer": "ipython3",
   "version": "3.8.8"
  },
  "orig_nbformat": 4,
  "vscode": {
   "interpreter": {
    "hash": "52a0e7b4f4c9b93c7568b039447b72228aa9ad72b6466ebee46731f7fd73c837"
   }
  }
 },
 "nbformat": 4,
 "nbformat_minor": 2
}
